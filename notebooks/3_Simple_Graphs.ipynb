{
 "cells": [
  {
   "cell_type": "markdown",
   "metadata": {},
   "source": [
    "# Building simple graphs"
   ]
  },
  {
   "cell_type": "markdown",
   "metadata": {},
   "source": [
    "First we import our utility scripts and libraries"
   ]
  },
  {
   "cell_type": "code",
   "execution_count": 8,
   "metadata": {},
   "outputs": [],
   "source": [
    "import sys\n",
    "import os\n",
    "import pandas as pd\n",
    "import numpy as np\n",
    "import matplotlib as mp\n",
    "import seaborn as sns\n",
    "import matplotlib.pyplot as plt\n",
    "\n",
    "project_dir = '/home/atoris/course-project-thomas-wright/src'\n",
    "if project_dir not in sys.path:\n",
    "    sys.path.insert(0, project_dir)\n"
   ]
  },
  {
   "cell_type": "code",
   "execution_count": 9,
   "metadata": {},
   "outputs": [],
   "source": [
    "import datautil as du"
   ]
  },
  {
   "cell_type": "markdown",
   "metadata": {},
   "source": [
    "Load our data again."
   ]
  },
  {
   "cell_type": "code",
   "execution_count": 26,
   "metadata": {},
   "outputs": [
    {
     "name": "stdout",
     "output_type": "stream",
     "text": [
      "/usr/home/atoris/course-project-thomas-wright/data/cpu_data_encoded.csv\n",
      "<class 'pandas.core.frame.DataFrame'>\n",
      "RangeIndex: 76 entries, 0 to 75\n",
      "Data columns (total 13 columns):\n",
      " #   Column         Non-Null Count  Dtype  \n",
      "---  ------         --------------  -----  \n",
      " 0   name           75 non-null     object \n",
      " 1   price          54 non-null     object \n",
      " 2   Socket         73 non-null     object \n",
      " 3   Clockspeed     75 non-null     float64\n",
      " 4   Turbo Speed    71 non-null     float64\n",
      " 5   Threads        75 non-null     float64\n",
      " 6   Cores          75 non-null     float64\n",
      " 7   Typical TDP    73 non-null     object \n",
      " 8   class_Desktop  76 non-null     int64  \n",
      " 9   class_Laptop   76 non-null     int64  \n",
      " 10  class_Server   76 non-null     int64  \n",
      " 11  brand_Amd      76 non-null     int64  \n",
      " 12  brand_Intel    76 non-null     int64  \n",
      "dtypes: float64(4), int64(5), object(4)\n",
      "memory usage: 7.8+ KB\n"
     ]
    }
   ],
   "source": [
    "url = 'https://www.cpubenchmark.net/mid_range_cpus.html'\n",
    "filename = 'cpu_data_encoded.csv'\n",
    "\n",
    "df = du.load_data(url, filename)\n",
    "df.info()"
   ]
  },
  {
   "cell_type": "markdown",
   "metadata": {},
   "source": [
    "Create a graph"
   ]
  },
  {
   "cell_type": "code",
   "execution_count": 25,
   "metadata": {},
   "outputs": [
    {
     "data": {
      "text/plain": [
       "<AxesSubplot:xlabel='Threads', ylabel='Clockspeed'>"
      ]
     },
     "execution_count": 25,
     "metadata": {},
     "output_type": "execute_result"
    },
    {
     "data": {
      "image/png": "[encoded data removed]",
      "text/plain": [
       "<Figure size 432x288 with 1 Axes>"
      ]
     },
     "metadata": {
      "needs_background": "light"
     },
     "output_type": "display_data"
    }
   ],
   "source": [
    "amd = df[df['brand_Amd'] == 1]\n",
    "intel = df[df['brand_Intel'] == 1]\n",
    "\n",
    "ax = intel.plot(y='Clockspeed', x='Threads', kind='scatter', label=\"Intel\")\n",
    "amd.plot(y='Clockspeed', x='Threads', kind='scatter', label=\"Amd\", ax=ax, c=\"Red\")"
   ]
  },
  {
   "cell_type": "code",
   "execution_count": null,
   "metadata": {},
   "outputs": [],
   "source": []
  }
 ],
 "metadata": {
  "kernelspec": {
   "display_name": "Python 3",
   "language": "python",
   "name": "python3"
  },
  "language_info": {
   "codemirror_mode": {
    "name": "ipython",
    "version": 3
   },
   "file_extension": ".py",
   "mimetype": "text/x-python",
   "name": "python",
   "nbconvert_exporter": "python",
   "pygments_lexer": "ipython3",
   "version": "3.7.9"
  }
 },
 "nbformat": 4,
 "nbformat_minor": 4
}
