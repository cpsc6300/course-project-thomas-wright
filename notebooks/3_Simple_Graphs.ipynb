{
 "cells": [
  {
   "cell_type": "markdown",
   "metadata": {},
   "source": [
    "# Building simple graphs"
   ]
  },
  {
   "cell_type": "markdown",
   "metadata": {},
   "source": [
    "First we import our utility scripts and libraries"
   ]
  },
  {
   "cell_type": "code",
   "execution_count": 1,
   "metadata": {},
   "outputs": [],
   "source": [
    "import sys\n",
    "import os\n",
    "import pandas as pd\n",
    "import numpy as np\n",
    "import matplotlib as mp\n",
    "import seaborn as sns\n",
    "import matplotlib.pyplot as plt\n",
    "\n",
    "project_dir = '/home/atoris/course-project-thomas-wright/src'\n",
    "if project_dir not in sys.path:\n",
    "    sys.path.insert(0, project_dir)\n"
   ]
  },
  {
   "cell_type": "code",
   "execution_count": 2,
   "metadata": {},
   "outputs": [],
   "source": [
    "import datautil as du"
   ]
  },
  {
   "cell_type": "markdown",
   "metadata": {},
   "source": [
    "Load our data again."
   ]
  },
  {
   "cell_type": "code",
   "execution_count": 3,
   "metadata": {},
   "outputs": [
    {
     "name": "stdout",
     "output_type": "stream",
     "text": [
      "/usr/home/atoris/course-project-thomas-wright/data/cpu_data_encoded.csv\n",
      "<class 'pandas.core.frame.DataFrame'>\n",
      "RangeIndex: 100 entries, 0 to 99\n",
      "Data columns (total 15 columns):\n",
      " #   Column         Non-Null Count  Dtype  \n",
      "---  ------         --------------  -----  \n",
      " 0   name           100 non-null    object \n",
      " 1   price          72 non-null     object \n",
      " 2   Clockspeed     100 non-null    float64\n",
      " 3   Turbo Speed    95 non-null     float64\n",
      " 4   Threads        100 non-null    int64  \n",
      " 5   Cores          100 non-null    int64  \n",
      " 6   Typical TDP    98 non-null     object \n",
      " 7   mt_score       100 non-null    int64  \n",
      " 8   st_score       100 non-null    int64  \n",
      " 9   Socket         97 non-null     object \n",
      " 10  class_Desktop  100 non-null    int64  \n",
      " 11  class_Laptop   100 non-null    int64  \n",
      " 12  class_Server   100 non-null    int64  \n",
      " 13  brand_Amd      100 non-null    int64  \n",
      " 14  brand_Intel    100 non-null    int64  \n",
      "dtypes: float64(2), int64(9), object(4)\n",
      "memory usage: 11.8+ KB\n"
     ]
    }
   ],
   "source": [
    "url = 'https://www.cpubenchmark.net/mid_range_cpus.html'\n",
    "filename = 'cpu_data_encoded.csv'\n",
    "\n",
    "df = du.load_data(url, filename)\n",
    "df.info()"
   ]
  },
  {
   "cell_type": "markdown",
   "metadata": {},
   "source": [
    "Create a graph"
   ]
  },
  {
   "cell_type": "code",
   "execution_count": 18,
   "metadata": {},
   "outputs": [
    {
     "data": {
      "text/plain": [
       "<AxesSubplot:xlabel='st_score', ylabel='Turbo Speed'>"
      ]
     },
     "execution_count": 18,
     "metadata": {},
     "output_type": "execute_result"
    },
    {
     "data": {
      "image/png": "[encoded data removed]",
      "text/plain": [
       "<Figure size 432x288 with 1 Axes>"
      ]
     },
     "metadata": {
      "needs_background": "light"
     },
     "output_type": "display_data"
    }
   ],
   "source": [
    "amd = df[df['brand_Amd'] == 1]\n",
    "intel = df[df['brand_Intel'] == 1]\n",
    "\n",
    "\n",
    "\n",
    "\n",
    "ax = intel.plot(y='Turbo Speed', x='st_score', kind='scatter', label=\"Intel\")\n",
    "amd.plot(y='Turbo Speed', x='st_score', kind='scatter', label=\"Amd\", ax=ax, c=\"Red\")"
   ]
  },
  {
   "cell_type": "markdown",
   "metadata": {},
   "source": [
    "We can see a basic trend of a higher clock speed allowing for better single threaded performace"
   ]
  },
  {
   "cell_type": "code",
   "execution_count": 20,
   "metadata": {},
   "outputs": [
    {
     "data": {
      "text/plain": [
       "<AxesSubplot:xlabel='mt_score', ylabel='Cores'>"
      ]
     },
     "execution_count": 20,
     "metadata": {},
     "output_type": "execute_result"
    },
    {
     "data": {
      "image/png": "[encoded data removed]",
      "text/plain": [
       "<Figure size 432x288 with 1 Axes>"
      ]
     },
     "metadata": {
      "needs_background": "light"
     },
     "output_type": "display_data"
    }
   ],
   "source": [
    "\n",
    "#amd = amd[amd['Threads'] == 4]\n",
    "#intel = intel[intel['Threads'] == 4]\n",
    "\n",
    "\n",
    "ax = intel.plot(y='Cores', x='mt_score', kind='scatter', label=\"Intel\")\n",
    "amd.plot(y='Cores', x='mt_score', kind='scatter', label=\"Amd\", ax=ax, c=\"Red\")"
   ]
  },
  {
   "cell_type": "code",
   "execution_count": null,
   "metadata": {},
   "outputs": [],
   "source": []
  }
 ],
 "metadata": {
  "kernelspec": {
   "display_name": "Python 3",
   "language": "python",
   "name": "python3"
  },
  "language_info": {
   "codemirror_mode": {
    "name": "ipython",
    "version": 3
   },
   "file_extension": ".py",
   "mimetype": "text/x-python",
   "name": "python",
   "nbconvert_exporter": "python",
   "pygments_lexer": "ipython3",
   "version": "3.7.9"
  }
 },
 "nbformat": 4,
 "nbformat_minor": 4
}
