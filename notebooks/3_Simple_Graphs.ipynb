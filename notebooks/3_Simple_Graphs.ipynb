{
 "cells": [
  {
   "cell_type": "markdown",
   "metadata": {},
   "source": [
    "# Building simple graphs"
   ]
  },
  {
   "cell_type": "markdown",
   "metadata": {},
   "source": [
    "First we import our utility scripts and libraries"
   ]
  },
  {
   "cell_type": "code",
   "execution_count": 1,
   "metadata": {},
   "outputs": [],
   "source": [
    "import sys\n",
    "import os\n",
    "import pandas as pd\n",
    "import numpy as np\n",
    "import matplotlib as mp\n",
    "import seaborn as sns\n",
    "import matplotlib.pyplot as plt\n",
    "\n",
    "project_dir = '/home/atoris/course-project-thomas-wright/src'\n",
    "if project_dir not in sys.path:\n",
    "    sys.path.insert(0, project_dir)\n"
   ]
  },
  {
   "cell_type": "code",
   "execution_count": 2,
   "metadata": {},
   "outputs": [],
   "source": [
    "import datautil as du"
   ]
  },
  {
   "cell_type": "markdown",
   "metadata": {},
   "source": [
    "Load our data again."
   ]
  },
  {
   "cell_type": "code",
   "execution_count": 3,
   "metadata": {},
   "outputs": [
    {
     "name": "stdout",
     "output_type": "stream",
     "text": [
      "/usr/home/atoris/course-project-thomas-wright/data/cpu_data_encoded.csv\n",
      "<class 'pandas.core.frame.DataFrame'>\n",
      "RangeIndex: 500 entries, 0 to 499\n",
      "Data columns (total 15 columns):\n",
      " #   Column         Non-Null Count  Dtype  \n",
      "---  ------         --------------  -----  \n",
      " 0   name           500 non-null    object \n",
      " 1   price          345 non-null    float64\n",
      " 2   Socket         478 non-null    object \n",
      " 3   Clockspeed     500 non-null    float64\n",
      " 4   Turbo Speed    300 non-null    float64\n",
      " 5   Threads        500 non-null    int64  \n",
      " 6   Cores          500 non-null    int64  \n",
      " 7   Typical TDP    488 non-null    float64\n",
      " 8   mt_score       500 non-null    int64  \n",
      " 9   st_score       500 non-null    int64  \n",
      " 10  class_Desktop  500 non-null    int64  \n",
      " 11  class_Laptop   500 non-null    int64  \n",
      " 12  class_Server   500 non-null    int64  \n",
      " 13  brand_Amd      500 non-null    int64  \n",
      " 14  brand_Intel    500 non-null    int64  \n",
      "dtypes: float64(4), int64(9), object(2)\n",
      "memory usage: 58.7+ KB\n"
     ]
    },
    {
     "data": {
      "text/html": [
       "<div>\n",
       "<style scoped>\n",
       "    .dataframe tbody tr th:only-of-type {\n",
       "        vertical-align: middle;\n",
       "    }\n",
       "\n",
       "    .dataframe tbody tr th {\n",
       "        vertical-align: top;\n",
       "    }\n",
       "\n",
       "    .dataframe thead th {\n",
       "        text-align: right;\n",
       "    }\n",
       "</style>\n",
       "<table border=\"1\" class=\"dataframe\">\n",
       "  <thead>\n",
       "    <tr style=\"text-align: right;\">\n",
       "      <th></th>\n",
       "      <th>name</th>\n",
       "      <th>price</th>\n",
       "      <th>Socket</th>\n",
       "      <th>Clockspeed</th>\n",
       "      <th>Turbo Speed</th>\n",
       "      <th>Threads</th>\n",
       "      <th>Cores</th>\n",
       "      <th>Typical TDP</th>\n",
       "      <th>mt_score</th>\n",
       "      <th>st_score</th>\n",
       "      <th>class_Desktop</th>\n",
       "      <th>class_Laptop</th>\n",
       "      <th>class_Server</th>\n",
       "      <th>brand_Amd</th>\n",
       "      <th>brand_Intel</th>\n",
       "    </tr>\n",
       "  </thead>\n",
       "  <tbody>\n",
       "    <tr>\n",
       "      <th>0</th>\n",
       "      <td>Ryzen Threadripper PRO 3995WX</td>\n",
       "      <td>NaN</td>\n",
       "      <td>sTRX4</td>\n",
       "      <td>2.7</td>\n",
       "      <td>4.2</td>\n",
       "      <td>128</td>\n",
       "      <td>64</td>\n",
       "      <td>280.0</td>\n",
       "      <td>88673</td>\n",
       "      <td>2676</td>\n",
       "      <td>1</td>\n",
       "      <td>0</td>\n",
       "      <td>0</td>\n",
       "      <td>1</td>\n",
       "      <td>0</td>\n",
       "    </tr>\n",
       "    <tr>\n",
       "      <th>1</th>\n",
       "      <td>Ryzen Threadripper 3990X</td>\n",
       "      <td>3849.99</td>\n",
       "      <td>sTRX4</td>\n",
       "      <td>2.9</td>\n",
       "      <td>4.3</td>\n",
       "      <td>128</td>\n",
       "      <td>64</td>\n",
       "      <td>280.0</td>\n",
       "      <td>80508</td>\n",
       "      <td>2545</td>\n",
       "      <td>1</td>\n",
       "      <td>0</td>\n",
       "      <td>0</td>\n",
       "      <td>1</td>\n",
       "      <td>0</td>\n",
       "    </tr>\n",
       "    <tr>\n",
       "      <th>2</th>\n",
       "      <td>EPYC 7702</td>\n",
       "      <td>6229.00</td>\n",
       "      <td>SP3</td>\n",
       "      <td>2.0</td>\n",
       "      <td>3.4</td>\n",
       "      <td>128</td>\n",
       "      <td>64</td>\n",
       "      <td>200.0</td>\n",
       "      <td>71859</td>\n",
       "      <td>2096</td>\n",
       "      <td>0</td>\n",
       "      <td>0</td>\n",
       "      <td>1</td>\n",
       "      <td>1</td>\n",
       "      <td>0</td>\n",
       "    </tr>\n",
       "    <tr>\n",
       "      <th>3</th>\n",
       "      <td>EPYC 7702P</td>\n",
       "      <td>4088.00</td>\n",
       "      <td>SP3</td>\n",
       "      <td>2.0</td>\n",
       "      <td>3.4</td>\n",
       "      <td>128</td>\n",
       "      <td>64</td>\n",
       "      <td>200.0</td>\n",
       "      <td>68213</td>\n",
       "      <td>2210</td>\n",
       "      <td>0</td>\n",
       "      <td>0</td>\n",
       "      <td>1</td>\n",
       "      <td>1</td>\n",
       "      <td>0</td>\n",
       "    </tr>\n",
       "    <tr>\n",
       "      <th>4</th>\n",
       "      <td>EPYC 7742</td>\n",
       "      <td>7549.35</td>\n",
       "      <td>SP3</td>\n",
       "      <td>2.3</td>\n",
       "      <td>3.4</td>\n",
       "      <td>128</td>\n",
       "      <td>64</td>\n",
       "      <td>225.0</td>\n",
       "      <td>67185</td>\n",
       "      <td>2376</td>\n",
       "      <td>0</td>\n",
       "      <td>0</td>\n",
       "      <td>1</td>\n",
       "      <td>1</td>\n",
       "      <td>0</td>\n",
       "    </tr>\n",
       "    <tr>\n",
       "      <th>...</th>\n",
       "      <td>...</td>\n",
       "      <td>...</td>\n",
       "      <td>...</td>\n",
       "      <td>...</td>\n",
       "      <td>...</td>\n",
       "      <td>...</td>\n",
       "      <td>...</td>\n",
       "      <td>...</td>\n",
       "      <td>...</td>\n",
       "      <td>...</td>\n",
       "      <td>...</td>\n",
       "      <td>...</td>\n",
       "      <td>...</td>\n",
       "      <td>...</td>\n",
       "      <td>...</td>\n",
       "    </tr>\n",
       "    <tr>\n",
       "      <th>95</th>\n",
       "      <td>Ryzen 7 3700X</td>\n",
       "      <td>304.99</td>\n",
       "      <td>AM4</td>\n",
       "      <td>3.6</td>\n",
       "      <td>4.4</td>\n",
       "      <td>16</td>\n",
       "      <td>8</td>\n",
       "      <td>65.0</td>\n",
       "      <td>22824</td>\n",
       "      <td>2690</td>\n",
       "      <td>1</td>\n",
       "      <td>0</td>\n",
       "      <td>0</td>\n",
       "      <td>1</td>\n",
       "      <td>0</td>\n",
       "    </tr>\n",
       "    <tr>\n",
       "      <th>96</th>\n",
       "      <td>Xeon Gold 6140</td>\n",
       "      <td>2863.75</td>\n",
       "      <td>FCLGA3647</td>\n",
       "      <td>2.3</td>\n",
       "      <td>3.7</td>\n",
       "      <td>36</td>\n",
       "      <td>18</td>\n",
       "      <td>140.0</td>\n",
       "      <td>22733</td>\n",
       "      <td>1840</td>\n",
       "      <td>0</td>\n",
       "      <td>0</td>\n",
       "      <td>1</td>\n",
       "      <td>0</td>\n",
       "      <td>1</td>\n",
       "    </tr>\n",
       "    <tr>\n",
       "      <th>97</th>\n",
       "      <td>Core i9-10900X</td>\n",
       "      <td>589.00</td>\n",
       "      <td>FCLGA2066</td>\n",
       "      <td>3.7</td>\n",
       "      <td>4.7</td>\n",
       "      <td>20</td>\n",
       "      <td>10</td>\n",
       "      <td>165.0</td>\n",
       "      <td>22697</td>\n",
       "      <td>2726</td>\n",
       "      <td>1</td>\n",
       "      <td>0</td>\n",
       "      <td>0</td>\n",
       "      <td>0</td>\n",
       "      <td>1</td>\n",
       "    </tr>\n",
       "    <tr>\n",
       "      <th>98</th>\n",
       "      <td>Xeon W-2255</td>\n",
       "      <td>778.00</td>\n",
       "      <td>FCLGA2066</td>\n",
       "      <td>3.7</td>\n",
       "      <td>4.7</td>\n",
       "      <td>20</td>\n",
       "      <td>10</td>\n",
       "      <td>165.0</td>\n",
       "      <td>22687</td>\n",
       "      <td>2776</td>\n",
       "      <td>0</td>\n",
       "      <td>0</td>\n",
       "      <td>0</td>\n",
       "      <td>0</td>\n",
       "      <td>1</td>\n",
       "    </tr>\n",
       "    <tr>\n",
       "      <th>99</th>\n",
       "      <td>EPYC 7F32</td>\n",
       "      <td>NaN</td>\n",
       "      <td>SP3</td>\n",
       "      <td>3.7</td>\n",
       "      <td>3.9</td>\n",
       "      <td>16</td>\n",
       "      <td>8</td>\n",
       "      <td>180.0</td>\n",
       "      <td>22303</td>\n",
       "      <td>2447</td>\n",
       "      <td>0</td>\n",
       "      <td>0</td>\n",
       "      <td>1</td>\n",
       "      <td>1</td>\n",
       "      <td>0</td>\n",
       "    </tr>\n",
       "  </tbody>\n",
       "</table>\n",
       "<p>100 rows × 15 columns</p>\n",
       "</div>"
      ],
      "text/plain": [
       "                             name    price      Socket  Clockspeed  \\\n",
       "0   Ryzen Threadripper PRO 3995WX      NaN      sTRX4          2.7   \n",
       "1        Ryzen Threadripper 3990X  3849.99      sTRX4          2.9   \n",
       "2                       EPYC 7702  6229.00        SP3          2.0   \n",
       "3                      EPYC 7702P  4088.00        SP3          2.0   \n",
       "4                       EPYC 7742  7549.35        SP3          2.3   \n",
       "..                            ...      ...         ...         ...   \n",
       "95                  Ryzen 7 3700X   304.99        AM4          3.6   \n",
       "96                Xeon Gold 6140   2863.75  FCLGA3647          2.3   \n",
       "97                Core i9-10900X    589.00  FCLGA2066          3.7   \n",
       "98                   Xeon W-2255    778.00  FCLGA2066          3.7   \n",
       "99                      EPYC 7F32      NaN        SP3          3.7   \n",
       "\n",
       "    Turbo Speed  Threads  Cores  Typical TDP  mt_score  st_score  \\\n",
       "0           4.2      128     64        280.0     88673      2676   \n",
       "1           4.3      128     64        280.0     80508      2545   \n",
       "2           3.4      128     64        200.0     71859      2096   \n",
       "3           3.4      128     64        200.0     68213      2210   \n",
       "4           3.4      128     64        225.0     67185      2376   \n",
       "..          ...      ...    ...          ...       ...       ...   \n",
       "95          4.4       16      8         65.0     22824      2690   \n",
       "96          3.7       36     18        140.0     22733      1840   \n",
       "97          4.7       20     10        165.0     22697      2726   \n",
       "98          4.7       20     10        165.0     22687      2776   \n",
       "99          3.9       16      8        180.0     22303      2447   \n",
       "\n",
       "    class_Desktop  class_Laptop  class_Server  brand_Amd  brand_Intel  \n",
       "0               1             0             0          1            0  \n",
       "1               1             0             0          1            0  \n",
       "2               0             0             1          1            0  \n",
       "3               0             0             1          1            0  \n",
       "4               0             0             1          1            0  \n",
       "..            ...           ...           ...        ...          ...  \n",
       "95              1             0             0          1            0  \n",
       "96              0             0             1          0            1  \n",
       "97              1             0             0          0            1  \n",
       "98              0             0             0          0            1  \n",
       "99              0             0             1          1            0  \n",
       "\n",
       "[100 rows x 15 columns]"
      ]
     },
     "execution_count": 3,
     "metadata": {},
     "output_type": "execute_result"
    }
   ],
   "source": [
    "url = 'https://www.cpubenchmark.net/mid_range_cpus.html'\n",
    "filename = 'cpu_data_encoded.csv'\n",
    "\n",
    "df = du.load_data(url, filename)\n",
    "df.info()\n",
    "df.head(100)"
   ]
  },
  {
   "cell_type": "markdown",
   "metadata": {},
   "source": [
    "Create a graph"
   ]
  },
  {
   "cell_type": "code",
   "execution_count": 4,
   "metadata": {},
   "outputs": [
    {
     "data": {
      "text/plain": [
       "<AxesSubplot:xlabel='st_score', ylabel='Turbo Speed'>"
      ]
     },
     "execution_count": 4,
     "metadata": {},
     "output_type": "execute_result"
    },
    {
     "data": {
      "image/png": "[encoded data removed]",
      "text/plain": [
       "<Figure size 432x288 with 1 Axes>"
      ]
     },
     "metadata": {
      "needs_background": "light"
     },
     "output_type": "display_data"
    }
   ],
   "source": [
    "amd = df[df['brand_Amd'] == 1]\n",
    "intel = df[df['brand_Intel'] == 1]\n",
    "\n",
    "\n",
    "\n",
    "\n",
    "ax = intel.plot(y='Turbo Speed', x='st_score', kind='scatter', label=\"Intel\")\n",
    "amd.plot(y='Turbo Speed', x='st_score', kind='scatter', label=\"Amd\", ax=ax, c=\"Red\")"
   ]
  },
  {
   "cell_type": "markdown",
   "metadata": {},
   "source": [
    "We can see a basic trend of a higher clock speed allowing for better single threaded performace"
   ]
  },
  {
   "cell_type": "code",
   "execution_count": 5,
   "metadata": {},
   "outputs": [
    {
     "data": {
      "text/plain": [
       "<AxesSubplot:xlabel='mt_score', ylabel='Cores'>"
      ]
     },
     "execution_count": 5,
     "metadata": {},
     "output_type": "execute_result"
    },
    {
     "data": {
      "image/png": "[encoded data removed]",
      "text/plain": [
       "<Figure size 432x288 with 1 Axes>"
      ]
     },
     "metadata": {
      "needs_background": "light"
     },
     "output_type": "display_data"
    }
   ],
   "source": [
    "\n",
    "#amd = amd[amd['Threads'] == 4]\n",
    "#intel = intel[intel['Threads'] == 4]\n",
    "\n",
    "\n",
    "ax = intel.plot(y='Cores', x='mt_score', kind='scatter', label=\"Intel\")\n",
    "amd.plot(y='Cores', x='mt_score', kind='scatter', label=\"Amd\", ax=ax, c=\"Red\")"
   ]
  },
  {
   "cell_type": "code",
   "execution_count": 6,
   "metadata": {},
   "outputs": [
    {
     "data": {
      "text/plain": [
       "<AxesSubplot:xlabel='price', ylabel='Typical TDP'>"
      ]
     },
     "execution_count": 6,
     "metadata": {},
     "output_type": "execute_result"
    },
    {
     "data": {
      "image/png": "[encoded data removed]",
      "text/plain": [
       "<Figure size 432x288 with 1 Axes>"
      ]
     },
     "metadata": {
      "needs_background": "light"
     },
     "output_type": "display_data"
    }
   ],
   "source": [
    "ax = intel.plot(y='Typical TDP', x='price', kind='scatter', label=\"Intel\")\n",
    "amd.plot(y='Typical TDP', x='price', kind='scatter', label=\"Amd\", ax=ax, c=\"Red\")"
   ]
  },
  {
   "cell_type": "code",
   "execution_count": 7,
   "metadata": {},
   "outputs": [
    {
     "data": {
      "text/plain": [
       "<AxesSubplot:xlabel='st_score', ylabel='Cores'>"
      ]
     },
     "execution_count": 7,
     "metadata": {},
     "output_type": "execute_result"
    },
    {
     "data": {
      "image/png": "[encoded data removed]",
      "text/plain": [
       "<Figure size 432x288 with 1 Axes>"
      ]
     },
     "metadata": {
      "needs_background": "light"
     },
     "output_type": "display_data"
    }
   ],
   "source": [
    "ax = intel.plot(y='Cores', x='st_score', kind='scatter', label=\"Intel\")\n",
    "amd.plot(y='Cores', x='st_score', kind='scatter', label=\"Amd\", ax=ax, c=\"Red\")"
   ]
  },
  {
   "cell_type": "code",
   "execution_count": null,
   "metadata": {},
   "outputs": [],
   "source": []
  },
  {
   "cell_type": "code",
   "execution_count": null,
   "metadata": {},
   "outputs": [],
   "source": []
  }
 ],
 "metadata": {
  "kernelspec": {
   "display_name": "Python 3",
   "language": "python",
   "name": "python3"
  },
  "language_info": {
   "codemirror_mode": {
    "name": "ipython",
    "version": 3
   },
   "file_extension": ".py",
   "mimetype": "text/x-python",
   "name": "python",
   "nbconvert_exporter": "python",
   "pygments_lexer": "ipython3",
   "version": "3.7.9"
  }
 },
 "nbformat": 4,
 "nbformat_minor": 4
}
