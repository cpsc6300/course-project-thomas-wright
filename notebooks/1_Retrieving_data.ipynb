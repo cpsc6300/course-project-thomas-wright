{
 "cells": [
  {
   "cell_type": "markdown",
   "metadata": {},
   "source": [
    "# Gathering Data"
   ]
  },
  {
   "cell_type": "markdown",
   "metadata": {},
   "source": [
    "Importing requried librarys"
   ]
  },
  {
   "cell_type": "code",
   "execution_count": 12,
   "metadata": {},
   "outputs": [
    {
     "name": "stdout",
     "output_type": "stream",
     "text": [
      "Overwriting ../src/datautil.py\n"
     ]
    }
   ],
   "source": [
    "%%writefile ../src/datautil.py\n",
    "#datautil.py\n",
    "import os\n",
    "import requests\n",
    "import time\n",
    "from bs4 import BeautifulSoup\n",
    "import pandas as pd"
   ]
  },
  {
   "cell_type": "markdown",
   "metadata": {},
   "source": [
    "Functions for Downloading data"
   ]
  },
  {
   "cell_type": "code",
   "execution_count": 13,
   "metadata": {},
   "outputs": [
    {
     "name": "stdout",
     "output_type": "stream",
     "text": [
      "Appending to ../src/datautil.py\n"
     ]
    }
   ],
   "source": [
    "%%writefile -a ../src/datautil.py\n",
    "\n",
    "def get_soup(url):\n",
    "    \n",
    "    \n",
    "    response = requests.get(url)\n",
    "    html = response.content\n",
    "    soup = BeautifulSoup(html, 'html.parser')\n",
    "    return soup\n",
    "\n",
    "def download_data(url, n=50, sleep=1):\n",
    "    cpus = [dict() for x in range(n+1)]\n",
    "    soup = get_soup(url)\n",
    "    table = soup.find('div', class_='chart')\n",
    "    rows = table.find_all('li')\n",
    "    attributes = ['Socket', 'Clocks', 'Turbo ', 'Cores:', 'Typica']\n",
    "\n",
    "    i = 0\n",
    "    for row in rows:\n",
    "        link = row.find('a').get('href')\n",
    "        link = 'https://www.cpubenchmark.net/' + link\n",
    "\n",
    "        soup = get_soup(link)\n",
    "        price = row.find('span', class_='price-neww').get_text()\n",
    "        name = row.find('span', class_='prdname').get_text()\n",
    "        \n",
    "\n",
    "        cpus[i][\"name\"] = name\n",
    "        cpus[i][\"price\"] = price\n",
    "\n",
    "        table = soup.find('div', class_= 'left-desc-cpu')\n",
    "        body = table.find_all('p')\n",
    "        for col in body:\n",
    "            text = col.get_text()\n",
    "            title = col.find('strong').get_text()\n",
    "\n",
    "            #Verifying attribute is one that we want\n",
    "            if title[:6] in attributes:\n",
    "                data = text.split(':')\n",
    "\n",
    "                #Edge case for cores/threads being in the same exact <p> tag\n",
    "                if title == \"Cores:\":\n",
    "\n",
    "                    #Another edge case for amd cpu's\n",
    "                    if (text.find(\"(\") != -1):\n",
    "                        data[1] = data[1][1]\n",
    "                        data.append(\"Threads\")\n",
    "                        data.append(data[1])\n",
    "\n",
    "                    else:\n",
    "                        temp2 = data[2]\n",
    "                        temp1 = data[1]\n",
    "                        data[1] = data[1][1]\n",
    "                        data[2] = temp1[3:]\n",
    "                        data.append(temp2[1:])\n",
    "\n",
    "                    cpus[i][data[2]] = data[3]\n",
    "\n",
    "                ##Formatting strings\n",
    "                if title != \"Socket:\":\n",
    "                    data[1] = data[1].replace(\" \", \"\")\n",
    "                else:\n",
    "                    data[1] = data[1][1:]\n",
    "\n",
    "                if (title=='Clockspeed:') or (title=='Turbo Speed:'):\n",
    "                    data[1] = data[1][:-3]\n",
    "\n",
    "                #Assign to dict\n",
    "                cpus[i][data[0]] = data[1]\n",
    "\n",
    "        if i >= n-1:\n",
    "            break\n",
    "        i = i+1\n",
    "        time.sleep(sleep)\n",
    "    \n",
    "    return pd.DataFrame.from_dict(cpus)"
   ]
  },
  {
   "cell_type": "markdown",
   "metadata": {},
   "source": [
    "Adding local src folder to sys.path"
   ]
  },
  {
   "cell_type": "code",
   "execution_count": 14,
   "metadata": {},
   "outputs": [
    {
     "name": "stdout",
     "output_type": "stream",
     "text": [
      "['/usr/home/atoris/course-project-thomas-wright/notebooks', '/usr/local/lib/python37.zip', '/usr/local/lib/python3.7', '/usr/local/lib/python3.7/lib-dynload', '', '/usr/local/lib/python3.7/site-packages', '/usr/local/lib/python3.7/site-packages/IPython/extensions', '/usr/home/atoris/.ipython', '/home/atoris/course-project-thomas-wright/src']\n"
     ]
    }
   ],
   "source": [
    "import sys\n",
    "project_dir = '/home/atoris/course-project-thomas-wright/src'\n",
    "if project_dir not in sys.path:\n",
    "    sys.path.insert(0, project_dir)\n",
    "\n",
    "print(sys.path)"
   ]
  },
  {
   "cell_type": "code",
   "execution_count": 15,
   "metadata": {},
   "outputs": [],
   "source": [
    "import os\n",
    "import pandas as pd\n",
    "import datautil as du\n",
    "import importlib\n",
    "\n",
    "url = 'https://www.cpubenchmark.net/mid_range_cpus.html'\n",
    "\n",
    "df = du.download_data(url, 1, 1)\n"
   ]
  },
  {
   "cell_type": "markdown",
   "metadata": {},
   "source": [
    "#### Verify the DataFrame"
   ]
  },
  {
   "cell_type": "code",
   "execution_count": 16,
   "metadata": {},
   "outputs": [
    {
     "data": {
      "text/html": [
       "<div>\n",
       "<style scoped>\n",
       "    .dataframe tbody tr th:only-of-type {\n",
       "        vertical-align: middle;\n",
       "    }\n",
       "\n",
       "    .dataframe tbody tr th {\n",
       "        vertical-align: top;\n",
       "    }\n",
       "\n",
       "    .dataframe thead th {\n",
       "        text-align: right;\n",
       "    }\n",
       "</style>\n",
       "<table border=\"1\" class=\"dataframe\">\n",
       "  <thead>\n",
       "    <tr style=\"text-align: right;\">\n",
       "      <th></th>\n",
       "      <th>name</th>\n",
       "      <th>price</th>\n",
       "      <th>Socket</th>\n",
       "      <th>Clockspeed</th>\n",
       "      <th>Turbo Speed</th>\n",
       "      <th>Threads</th>\n",
       "      <th>Cores</th>\n",
       "      <th>Typical TDP</th>\n",
       "    </tr>\n",
       "  </thead>\n",
       "  <tbody>\n",
       "    <tr>\n",
       "      <th>0</th>\n",
       "      <td>Intel Core i5-6600 @ 3.30GHz</td>\n",
       "      <td>$262.13*</td>\n",
       "      <td>LGA 1151</td>\n",
       "      <td>3.3</td>\n",
       "      <td>3.9</td>\n",
       "      <td>4</td>\n",
       "      <td>4</td>\n",
       "      <td>65W</td>\n",
       "    </tr>\n",
       "    <tr>\n",
       "      <th>1</th>\n",
       "      <td>NaN</td>\n",
       "      <td>NaN</td>\n",
       "      <td>NaN</td>\n",
       "      <td>NaN</td>\n",
       "      <td>NaN</td>\n",
       "      <td>NaN</td>\n",
       "      <td>NaN</td>\n",
       "      <td>NaN</td>\n",
       "    </tr>\n",
       "  </tbody>\n",
       "</table>\n",
       "</div>"
      ],
      "text/plain": [
       "                           name     price     Socket Clockspeed Turbo Speed  \\\n",
       "0  Intel Core i5-6600 @ 3.30GHz  $262.13*  LGA 1151         3.3         3.9   \n",
       "1                           NaN       NaN        NaN        NaN         NaN   \n",
       "\n",
       "  Threads Cores Typical TDP  \n",
       "0      4      4         65W  \n",
       "1     NaN   NaN         NaN  "
      ]
     },
     "execution_count": 16,
     "metadata": {},
     "output_type": "execute_result"
    }
   ],
   "source": [
    "df.head(5)"
   ]
  },
  {
   "cell_type": "markdown",
   "metadata": {},
   "source": [
    "Functions for saving and reloading the dataframe"
   ]
  },
  {
   "cell_type": "code",
   "execution_count": 17,
   "metadata": {},
   "outputs": [
    {
     "name": "stdout",
     "output_type": "stream",
     "text": [
      "Appending to ../src/datautil.py\n"
     ]
    }
   ],
   "source": [
    "%%writefile -a ../src/datautil.py\n",
    "\n",
    "def save_df(df, filename):\n",
    "    basedir = os.path.dirname(os.getcwd())\n",
    "    filepath = 'data/' + filename\n",
    "    full_path = os.path.join(basedir, filepath)\n",
    "    df.to_csv(full_path, index=False)\n",
    "\n",
    "def load_data(url, file):\n",
    "    file = os.path.dirname(os.getcwd()) + '/data/' + file\n",
    "    print(file)\n",
    "    if not os.path.exists(file):\n",
    "        if not os.path.exists(os.path.dirname(file)):\n",
    "            os.makedirs(os.path.dirname(file))\n",
    "        df = download_data(url)\n",
    "        save_df(df, file)\n",
    "    return pd.read_csv(file)\n"
   ]
  },
  {
   "cell_type": "markdown",
   "metadata": {},
   "source": [
    "Use these functions to save our data"
   ]
  },
  {
   "cell_type": "code",
   "execution_count": 18,
   "metadata": {},
   "outputs": [],
   "source": [
    "importlib.reload(du)\n",
    "\n",
    "du.save_df(df, 'cpu_data.csv')"
   ]
  },
  {
   "cell_type": "markdown",
   "metadata": {},
   "source": [
    "Verify new project files have been saved"
   ]
  },
  {
   "cell_type": "code",
   "execution_count": 19,
   "metadata": {
    "scrolled": true
   },
   "outputs": [
    {
     "name": "stdout",
     "output_type": "stream",
     "text": [
      "\u001b[01;34m../\u001b[00m\r\n",
      "├── \u001b[01;32mLICENSE\u001b[00m\r\n",
      "├── \u001b[01;32mREADME.md\u001b[00m\r\n",
      "├── \u001b[01;34mdata\u001b[00m\r\n",
      "│   └── cpu_data.csv\r\n",
      "├── \u001b[01;34mmodels\u001b[00m\r\n",
      "├── \u001b[01;34mnotebooks\u001b[00m\r\n",
      "│   ├── \u001b[01;32m0_setup_project_folders.ipynb\u001b[00m\r\n",
      "│   ├── 1_Retrieving_data.ipynb\r\n",
      "│   ├── 2_Cleaning_data.ipynb\r\n",
      "│   └── \u001b[01;34m__pycache__\u001b[00m\r\n",
      "│       └── datautil.cpython-37.pyc\r\n",
      "├── \u001b[01;34mreport\u001b[00m\r\n",
      "│   ├── \u001b[01;32minterim.md\u001b[00m\r\n",
      "│   ├── \u001b[01;32mproposal.md\u001b[00m\r\n",
      "│   └── \u001b[01;32mreport.md\u001b[00m\r\n",
      "└── \u001b[01;34msrc\u001b[00m\r\n",
      "    ├── \u001b[01;34m__pycache__\u001b[00m\r\n",
      "    │   └── datautil.cpython-37.pyc\r\n",
      "    └── datautil.py\r\n",
      "\r\n",
      "7 directories, 12 files\r\n"
     ]
    }
   ],
   "source": [
    "!tree ../"
   ]
  },
  {
   "cell_type": "markdown",
   "metadata": {},
   "source": [
    "Next step is to clean the rest of the data"
   ]
  }
 ],
 "metadata": {
  "kernelspec": {
   "display_name": "Python 3",
   "language": "python",
   "name": "python3"
  },
  "language_info": {
   "codemirror_mode": {
    "name": "ipython",
    "version": 3
   },
   "file_extension": ".py",
   "mimetype": "text/x-python",
   "name": "python",
   "nbconvert_exporter": "python",
   "pygments_lexer": "ipython3",
   "version": "3.7.9"
  }
 },
 "nbformat": 4,
 "nbformat_minor": 4
}
