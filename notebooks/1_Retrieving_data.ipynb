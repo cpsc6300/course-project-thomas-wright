{
 "cells": [
  {
   "cell_type": "markdown",
   "metadata": {},
   "source": [
    "# Gathering Data"
   ]
  },
  {
   "cell_type": "markdown",
   "metadata": {},
   "source": [
    "Importing requried librarys"
   ]
  },
  {
   "cell_type": "code",
   "execution_count": 1,
   "metadata": {},
   "outputs": [
    {
     "name": "stdout",
     "output_type": "stream",
     "text": [
      "Overwriting ../src/datautil.py\n"
     ]
    }
   ],
   "source": [
    "%%writefile ../src/datautil.py\n",
    "#datautil.py\n",
    "import os\n",
    "import requests\n",
    "import time\n",
    "from bs4 import BeautifulSoup\n",
    "import pandas as pd"
   ]
  },
  {
   "cell_type": "markdown",
   "metadata": {},
   "source": [
    "Functions for Downloading data"
   ]
  },
  {
   "cell_type": "code",
   "execution_count": 2,
   "metadata": {},
   "outputs": [
    {
     "name": "stdout",
     "output_type": "stream",
     "text": [
      "Appending to ../src/datautil.py\n"
     ]
    }
   ],
   "source": [
    "%%writefile -a ../src/datautil.py\n",
    "\n",
    "def get_soup(url):\n",
    "    \n",
    "    \n",
    "    response = requests.get(url)\n",
    "    html = response.content\n",
    "    soup = BeautifulSoup(html, 'html.parser')\n",
    "    return soup\n",
    "\n",
    "def download_data(url, n=50, sleep=1):\n",
    "    cpus = [dict() for x in range(n)]\n",
    "    soup = get_soup(url)\n",
    "    table = soup.find('div', class_='chart')\n",
    "    rows = table.find_all('li')\n",
    "    attributes = ['Class:', 'Socket', 'Clocks', 'Turbo ', 'Cores:', 'Typica']\n",
    "\n",
    "    i = 0\n",
    "    for row in rows:\n",
    "        link = row.find('a').get('href')\n",
    "        link = 'https://www.cpubenchmark.net/' + link\n",
    "\n",
    "        soup = get_soup(link)\n",
    "        price = row.find('span', class_='price-neww').get_text()\n",
    "        name = row.find('span', class_='prdname').get_text()\n",
    "        \n",
    "\n",
    "        cpus[i][\"name\"] = name\n",
    "        cpus[i][\"price\"] = price\n",
    "\n",
    "        table = soup.find('div', class_= 'left-desc-cpu')\n",
    "        body = table.find_all('p')\n",
    "        for col in body:\n",
    "            text = col.get_text()\n",
    "            title = col.find('strong').get_text()\n",
    "\n",
    "            #Verifying attribute is one that we want\n",
    "            if title[:6] in attributes:\n",
    "                data = text.split(':')\n",
    "\n",
    "                #Edge case for cores/threads being in the same exact <p> tag\n",
    "                if title == \"Cores:\":\n",
    "\n",
    "                    #Another edge case for amd cpu's\n",
    "                    if (text.find(\"(\") != -1):\n",
    "                        data[1] = data[1][1]\n",
    "                        data.append(\"Threads\")\n",
    "                        data.append(data[1])\n",
    "\n",
    "                    else:\n",
    "                        temp2 = data[2]\n",
    "                        data[1] = data[1][1]\n",
    "                        data[2] = \"Threads\"\n",
    "                        data.append(temp2[1:])\n",
    "\n",
    "                    cpus[i][data[2]] = data[3]\n",
    "\n",
    "                ##Formatting strings\n",
    "                if title != \"Socket:\":\n",
    "                    data[1] = data[1].replace(\" \", \"\")\n",
    "                else:\n",
    "                    data[1] = data[1][1:]\n",
    "\n",
    "                if (title=='Clockspeed:') or (title=='Turbo Speed:'):\n",
    "                    data[1] = data[1][:-3]\n",
    "\n",
    "                #Assign to dict\n",
    "                cpus[i][data[0]] = data[1]\n",
    "                \n",
    "        #Gathering scores from other part of dataset\n",
    "        table = soup.find('div', class_= 'right-desc')\n",
    "        body = table.find_all('p')\n",
    "        multi_threaded_score = table.find_all('span')[1].get_text()\n",
    "        \n",
    "        data = table.get_text().split(\":\")\n",
    "        data[1] = data[1][:5]\n",
    "        data[1] = data[1].replace(\" \", \"\")\n",
    "        single_threaded_score = data[1]\n",
    "        print(single_threaded_score)\n",
    "        \n",
    "        cpus[i][\"mt_score\"] = int(multi_threaded_score)\n",
    "        cpus[i][\"st_score\"] = int(single_threaded_score)\n",
    "\n",
    "        if i >= n-1:\n",
    "            break\n",
    "        i = i+1\n",
    "        time.sleep(sleep)\n",
    "    \n",
    "    return pd.DataFrame.from_dict(cpus)"
   ]
  },
  {
   "cell_type": "markdown",
   "metadata": {},
   "source": [
    "Adding local src folder to sys.path"
   ]
  },
  {
   "cell_type": "code",
   "execution_count": 3,
   "metadata": {},
   "outputs": [],
   "source": [
    "import sys\n",
    "project_dir = '/home/atoris/course-project-thomas-wright/src'\n",
    "if project_dir not in sys.path:\n",
    "    sys.path.insert(0, project_dir)\n"
   ]
  },
  {
   "cell_type": "markdown",
   "metadata": {},
   "source": [
    "This next step actaully downloads all the data, this takes a while depnding on how fast you want to reload pages from the website, the rate limit is put into effect to not get blocked from the website."
   ]
  },
  {
   "cell_type": "code",
   "execution_count": 6,
   "metadata": {},
   "outputs": [
    {
     "name": "stdout",
     "output_type": "stream",
     "text": [
      "1231\n",
      "1981\n",
      "2261\n",
      "2072\n",
      "1298\n",
      "1965\n",
      "2005\n",
      "2051\n",
      "1954\n",
      "2101\n",
      "2200\n",
      "1078\n",
      "1827\n",
      "2247\n",
      "2074\n",
      "2039\n",
      "2065\n",
      "2010\n",
      "1659\n",
      "2239\n",
      "1693\n",
      "1091\n",
      "1977\n",
      "1565\n",
      "1321\n",
      "2258\n",
      "2124\n",
      "1127\n",
      "2040\n",
      "1856\n",
      "1893\n",
      "1777\n",
      "1777\n",
      "2005\n",
      "1911\n",
      "1932\n",
      "1060\n",
      "1189\n",
      "1874\n",
      "1875\n",
      "1849\n",
      "2123\n",
      "569\n",
      "\n",
      "1840\n",
      "1157\n",
      "1943\n",
      "2012\n",
      "1844\n",
      "2200\n",
      "2121\n",
      "2062\n",
      "2190\n",
      "2186\n",
      "1788\n",
      "1165\n",
      "1671\n",
      "2052\n",
      "971\n",
      "\n",
      "2102\n",
      "1954\n",
      "2108\n",
      "2141\n",
      "1932\n",
      "1766\n",
      "1807\n",
      "1776\n",
      "1790\n",
      "1164\n",
      "2150\n",
      "1956\n",
      "1578\n",
      "1734\n",
      "1548\n",
      "1698\n",
      "1688\n",
      "1997\n",
      "1943\n",
      "2064\n",
      "1464\n",
      "1694\n",
      "2164\n",
      "1753\n",
      "1734\n",
      "1896\n",
      "1663\n",
      "1916\n",
      "1932\n",
      "1737\n",
      "1735\n",
      "1725\n",
      "1784\n",
      "2081\n",
      "849\n",
      "\n",
      "2193\n",
      "1726\n",
      "1480\n",
      "1782\n",
      "1060\n",
      "2308\n",
      "2343\n"
     ]
    }
   ],
   "source": [
    "import os\n",
    "import pandas as pd\n",
    "import datautil as du\n",
    "import importlib\n",
    "\n",
    "url = 'https://www.cpubenchmark.net/mid_range_cpus.html'\n",
    "\n",
    "df = du.download_data(url, 100, 1)\n"
   ]
  },
  {
   "cell_type": "markdown",
   "metadata": {},
   "source": [
    "#### Verify the DataFrame"
   ]
  },
  {
   "cell_type": "code",
   "execution_count": 7,
   "metadata": {},
   "outputs": [
    {
     "data": {
      "text/html": [
       "<div>\n",
       "<style scoped>\n",
       "    .dataframe tbody tr th:only-of-type {\n",
       "        vertical-align: middle;\n",
       "    }\n",
       "\n",
       "    .dataframe tbody tr th {\n",
       "        vertical-align: top;\n",
       "    }\n",
       "\n",
       "    .dataframe thead th {\n",
       "        text-align: right;\n",
       "    }\n",
       "</style>\n",
       "<table border=\"1\" class=\"dataframe\">\n",
       "  <thead>\n",
       "    <tr style=\"text-align: right;\">\n",
       "      <th></th>\n",
       "      <th>name</th>\n",
       "      <th>price</th>\n",
       "      <th>Class</th>\n",
       "      <th>Clockspeed</th>\n",
       "      <th>Turbo Speed</th>\n",
       "      <th>Threads</th>\n",
       "      <th>Cores</th>\n",
       "      <th>Typical TDP</th>\n",
       "      <th>mt_score</th>\n",
       "      <th>st_score</th>\n",
       "      <th>Socket</th>\n",
       "    </tr>\n",
       "  </thead>\n",
       "  <tbody>\n",
       "    <tr>\n",
       "      <th>0</th>\n",
       "      <td>AMD Opteron 6344</td>\n",
       "      <td>$379.00*</td>\n",
       "      <td>Server</td>\n",
       "      <td>2.6</td>\n",
       "      <td>3.2</td>\n",
       "      <td>1</td>\n",
       "      <td>1</td>\n",
       "      <td>115W</td>\n",
       "      <td>6069</td>\n",
       "      <td>1231</td>\n",
       "      <td>NaN</td>\n",
       "    </tr>\n",
       "    <tr>\n",
       "      <th>1</th>\n",
       "      <td>Intel Core i5-8250U @ 1.60GHz</td>\n",
       "      <td>NA</td>\n",
       "      <td>Laptop</td>\n",
       "      <td>1.6</td>\n",
       "      <td>3.4</td>\n",
       "      <td>8</td>\n",
       "      <td>4</td>\n",
       "      <td>15W3</td>\n",
       "      <td>6067</td>\n",
       "      <td>1981</td>\n",
       "      <td>FC-BGA1356</td>\n",
       "    </tr>\n",
       "    <tr>\n",
       "      <th>2</th>\n",
       "      <td>Intel Core i5-6600 @ 3.30GHz</td>\n",
       "      <td>$262.13*</td>\n",
       "      <td>Desktop</td>\n",
       "      <td>3.3</td>\n",
       "      <td>3.9</td>\n",
       "      <td>4</td>\n",
       "      <td>4</td>\n",
       "      <td>65W</td>\n",
       "      <td>6059</td>\n",
       "      <td>2261</td>\n",
       "      <td>LGA 1151</td>\n",
       "    </tr>\n",
       "    <tr>\n",
       "      <th>3</th>\n",
       "      <td>Intel Xeon E3-1220 v6 @ 3.00GHz</td>\n",
       "      <td>$214.99</td>\n",
       "      <td>Server</td>\n",
       "      <td>3.0</td>\n",
       "      <td>3.5</td>\n",
       "      <td>4</td>\n",
       "      <td>4</td>\n",
       "      <td>72W</td>\n",
       "      <td>6048</td>\n",
       "      <td>2072</td>\n",
       "      <td>FCLGA1151</td>\n",
       "    </tr>\n",
       "    <tr>\n",
       "      <th>4</th>\n",
       "      <td>Intel Xeon E5-2440 @ 2.40GHz</td>\n",
       "      <td>$741.00*</td>\n",
       "      <td>Server</td>\n",
       "      <td>2.4</td>\n",
       "      <td>2.7</td>\n",
       "      <td>12</td>\n",
       "      <td>6</td>\n",
       "      <td>95W</td>\n",
       "      <td>6040</td>\n",
       "      <td>1298</td>\n",
       "      <td>LGA 1356</td>\n",
       "    </tr>\n",
       "  </tbody>\n",
       "</table>\n",
       "</div>"
      ],
      "text/plain": [
       "                              name     price    Class Clockspeed Turbo Speed  \\\n",
       "0                 AMD Opteron 6344  $379.00*   Server        2.6         3.2   \n",
       "1    Intel Core i5-8250U @ 1.60GHz        NA   Laptop        1.6         3.4   \n",
       "2     Intel Core i5-6600 @ 3.30GHz  $262.13*  Desktop        3.3         3.9   \n",
       "3  Intel Xeon E3-1220 v6 @ 3.00GHz   $214.99   Server        3.0         3.5   \n",
       "4     Intel Xeon E5-2440 @ 2.40GHz  $741.00*   Server        2.4         2.7   \n",
       "\n",
       "  Threads Cores Typical TDP  mt_score  st_score        Socket  \n",
       "0       1     1        115W      6069      1231           NaN  \n",
       "1      8      4        15W3      6067      1981   FC-BGA1356   \n",
       "2      4      4         65W      6059      2261     LGA 1151   \n",
       "3      4      4         72W      6048      2072    FCLGA1151   \n",
       "4     12      6         95W      6040      1298     LGA 1356   "
      ]
     },
     "execution_count": 7,
     "metadata": {},
     "output_type": "execute_result"
    }
   ],
   "source": [
    "df.head(5)"
   ]
  },
  {
   "cell_type": "markdown",
   "metadata": {},
   "source": [
    "Functions for saving and reloading the dataframe"
   ]
  },
  {
   "cell_type": "code",
   "execution_count": 8,
   "metadata": {},
   "outputs": [
    {
     "name": "stdout",
     "output_type": "stream",
     "text": [
      "Appending to ../src/datautil.py\n"
     ]
    }
   ],
   "source": [
    "%%writefile -a ../src/datautil.py\n",
    "\n",
    "def save_df(df, filename):\n",
    "    basedir = os.path.dirname(os.getcwd())\n",
    "    filepath = 'data/' + filename\n",
    "    full_path = os.path.join(basedir, filepath)\n",
    "    df.to_csv(full_path, index=False)\n",
    "\n",
    "def load_data(url, file):\n",
    "    file = os.path.dirname(os.getcwd()) + '/data/' + file\n",
    "    print(file)\n",
    "    if not os.path.exists(file):\n",
    "        if not os.path.exists(os.path.dirname(file)):\n",
    "            os.makedirs(os.path.dirname(file))\n",
    "        df = download_data(url)\n",
    "        save_df(df, file)\n",
    "    return pd.read_csv(file)\n"
   ]
  },
  {
   "cell_type": "markdown",
   "metadata": {},
   "source": [
    "Use these functions to save our data"
   ]
  },
  {
   "cell_type": "code",
   "execution_count": 9,
   "metadata": {},
   "outputs": [],
   "source": [
    "importlib.reload(du)\n",
    "\n",
    "du.save_df(df, 'cpu_data.csv')"
   ]
  },
  {
   "cell_type": "markdown",
   "metadata": {},
   "source": [
    "Verify new project files have been saved"
   ]
  },
  {
   "cell_type": "code",
   "execution_count": 10,
   "metadata": {
    "scrolled": true
   },
   "outputs": [
    {
     "name": "stdout",
     "output_type": "stream",
     "text": [
      "\u001b[01;34m../\u001b[00m\r\n",
      "├── \u001b[01;32mLICENSE\u001b[00m\r\n",
      "├── \u001b[01;32mREADME.md\u001b[00m\r\n",
      "├── \u001b[01;34mdata\u001b[00m\r\n",
      "│   ├── cpu_data.csv\r\n",
      "│   ├── cpu_data_cleaned.csv\r\n",
      "│   └── cpu_data_encoded.csv\r\n",
      "├── \u001b[01;34mmodels\u001b[00m\r\n",
      "├── \u001b[01;34mnotebooks\u001b[00m\r\n",
      "│   ├── \u001b[01;32m0_setup_project_folders.ipynb\u001b[00m\r\n",
      "│   ├── 1_Retrieving_data.ipynb\r\n",
      "│   ├── 2_Cleaning_data.ipynb\r\n",
      "│   ├── 3_Simple_Graphs.ipynb\r\n",
      "│   └── \u001b[01;34m__pycache__\u001b[00m\r\n",
      "│       └── datautil.cpython-37.pyc\r\n",
      "├── \u001b[01;34mreport\u001b[00m\r\n",
      "│   ├── \u001b[01;32minterim.md\u001b[00m\r\n",
      "│   ├── \u001b[01;32mproposal.md\u001b[00m\r\n",
      "│   └── \u001b[01;32mreport.md\u001b[00m\r\n",
      "└── \u001b[01;34msrc\u001b[00m\r\n",
      "    ├── \u001b[01;34m__pycache__\u001b[00m\r\n",
      "    │   └── datautil.cpython-37.pyc\r\n",
      "    └── datautil.py\r\n",
      "\r\n",
      "7 directories, 15 files\r\n"
     ]
    }
   ],
   "source": [
    "!tree ../"
   ]
  },
  {
   "cell_type": "markdown",
   "metadata": {},
   "source": [
    "Next step is to clean the rest of the data"
   ]
  }
 ],
 "metadata": {
  "kernelspec": {
   "display_name": "Python 3",
   "language": "python",
   "name": "python3"
  },
  "language_info": {
   "codemirror_mode": {
    "name": "ipython",
    "version": 3
   },
   "file_extension": ".py",
   "mimetype": "text/x-python",
   "name": "python",
   "nbconvert_exporter": "python",
   "pygments_lexer": "ipython3",
   "version": "3.7.9"
  }
 },
 "nbformat": 4,
 "nbformat_minor": 4
}
